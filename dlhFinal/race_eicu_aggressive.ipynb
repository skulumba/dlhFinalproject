{
 "cells": [
  {
   "cell_type": "markdown",
   "metadata": {},
   "source": [
    "<h1>eICU Treatment Disparities, Stratified by Race</h1>\n",
    "The code can stand to be cleaned up, but it generates the figures from the poster."
   ]
  },
  {
   "cell_type": "code",
   "execution_count": 1,
   "metadata": {},
   "outputs": [
    {
     "name": "stdout",
     "output_type": "stream",
     "text": [
      "2025-05-05 18:51:11\n",
      "hospitals:  (23760, 3)\n",
      "\n",
      "apache:  (148532, 3)\n",
      "\n",
      "demographics:  (176575, 5)\n",
      "\n",
      "treatments:  (3688745, 4)\n",
      "\n",
      "\n",
      "[stays] ids:    14408\n",
      "\n",
      "hospitals:    rows=  14408 stays=14408\n",
      "demographics: rows=  14408 stays=14408\n",
      "apache:       rows=  14408 stays=14408\n",
      "treatments:   rows= 520063 stays=14408\n",
      "2025-05-05 18:51:21\n"
     ]
    }
   ],
   "source": [
    "##################\n",
    "# Load data\n",
    "##################\n",
    "\n",
    "import pandas as pd\n",
    "import psycopg2\n",
    "import time\n",
    "\n",
    "print time.strftime(\"%Y-%m-%d %H:%M:%S\")\n",
    "\n",
    "# create a database connection\n",
    "sqluser = 'saadtech'\n",
    "dbname = 'eicu'\n",
    "schema_name = 'eicu_crd'\n",
    "\n",
    "\n",
    "# Connect to the database\n",
    "con = psycopg2.connect(dbname=dbname, user=sqluser, host=\"/var/run/postgresql\")\n",
    "cur = con.cursor()\n",
    "cur.execute('SET search_path to {}'.format(schema_name))\n",
    "\n",
    "\n",
    "# Loading data. Takes a little bit, but then you have it all session (worth it)\n",
    "\n",
    "# hospitals\n",
    "hospital_query = \"select distinct patientunitstayid,hospitalid,hospitaldischargelocation as discharge_location from patient where hospitaldischargelocation in ('Skilled Nursing Facility','Death')\"\n",
    "\n",
    "all_hospitals = pd.read_sql_query(hospital_query, con)\n",
    "good_hospital_ids = [79, 83, 86, 90, 91, 92, 94, 95, 96, 102, 108, 110, 112, 120, 122, 123, 125, 135, 140, 142, 146, 148, 152, 154, 155, 156, 157, 158, 165, 167, 171, 174, 175, 176, 199, 200, 201, 202, 203, 204, 206, 207, 208, 209, 210, 226, 243, 248, 249, 250, 252, 253, 265, 271, 272, 275, 280, 281, 283, 323, 350, 352, 353, 358, 360, 363, 364, 365, 384, 388, 390, 393, 403, 405, 411, 413, 416, 417, 443, 444, 447, 449, 458, 459]\n",
    "hospitals = all_hospitals.loc[all_hospitals['hospitalid'].isin(good_hospital_ids)]\n",
    "print 'hospitals: ', hospitals.shape\n",
    "#display(hospitals.head())\n",
    "print\n",
    "\n",
    "# outcome\n",
    "apache_query = 'select distinct patientunitstayid,apacheScore,actualhospitallos as los from apachepatientresult'\n",
    "apache = pd.read_sql_query(apache_query, con)\n",
    "print 'apache: ', apache.shape\n",
    "#display(apache.head())\n",
    "print\n",
    "\n",
    "# demographics\n",
    "demographics_query = \"\"\"\n",
    "select distinct patientUnitStayID,patienthealthsystemstayid,gender,age,ethnicity as race \n",
    "from patient \n",
    "where ethnicity in ('Caucasian','African American')\n",
    "and gender in ('Male', 'Female')\n",
    "\"\"\"\n",
    "demographics = pd.read_sql_query(demographics_query, con)\n",
    "def age_to_num(age):\n",
    "    try:\n",
    "        return int(age)\n",
    "    except Exception as e:\n",
    "        return 90\n",
    "demographics['age'] = demographics['age'].apply(age_to_num)\n",
    "print 'demographics: ', demographics.shape\n",
    "#display(demographics.head())\n",
    "print\n",
    "\n",
    "# treatment strings\n",
    "treatment_query = 'select distinct patientunitstayid,treatmentid,treatmentoffset,treatmentstring from treatment'\n",
    "treatments = pd.read_sql_query(treatment_query, con)\n",
    "print 'treatments: ', treatments.shape\n",
    "#display(treatments.head())\n",
    "print\n",
    "\n",
    "print\n",
    "icustay_ids = set(hospitals['patientunitstayid']) & set(demographics['patientunitstayid']) & \\\n",
    "              set(   apache['patientunitstayid']) & set(  treatments['patientunitstayid']) \n",
    "print '[stays] ids:   ', len(icustay_ids)\n",
    "print\n",
    "\n",
    "# filter down to the relevant patients\n",
    "hospitals    =    hospitals.loc[   hospitals['patientunitstayid'].isin(icustay_ids)]\n",
    "demographics = demographics.loc[demographics['patientunitstayid'].isin(icustay_ids)]\n",
    "apache       =       apache.loc[      apache['patientunitstayid'].isin(icustay_ids)]\n",
    "treatments   =   treatments.loc[  treatments['patientunitstayid'].isin(icustay_ids)]\n",
    "\n",
    "print 'hospitals:    rows=%7d stays=%5d' % (len(hospitals)   , len(set(   hospitals['patientunitstayid'].values)))\n",
    "print 'demographics: rows=%7d stays=%5d' % (len(demographics), len(set(demographics['patientunitstayid'].values)))\n",
    "print 'apache:       rows=%7d stays=%5d' % (len(apache)      , len(set(      apache['patientunitstayid'].values)))\n",
    "print 'treatments:   rows=%7d stays=%5d' % (len(treatments)  , len(set(  treatments['patientunitstayid'].values)))\n",
    "\n",
    "print time.strftime(\"%Y-%m-%d %H:%M:%S\")"
   ]
  },
  {
   "cell_type": "code",
   "execution_count": null,
   "metadata": {},
   "outputs": [],
   "source": []
  },
  {
   "cell_type": "code",
   "execution_count": 2,
   "metadata": {},
   "outputs": [
    {
     "name": "stderr",
     "output_type": "stream",
     "text": [
      "622it [00:00, 6212.93it/s]"
     ]
    },
    {
     "name": "stdout",
     "output_type": "stream",
     "text": [
      "2025-05-05 18:51:46\n"
     ]
    },
    {
     "name": "stderr",
     "output_type": "stream",
     "text": [
      "14408it [00:02, 6518.09it/s]\n",
      "889it [00:00, 8888.40it/s]"
     ]
    },
    {
     "name": "stdout",
     "output_type": "stream",
     "text": [
      "14408\n"
     ]
    },
    {
     "name": "stderr",
     "output_type": "stream",
     "text": [
      "14408it [00:01, 10661.62it/s]"
     ]
    },
    {
     "name": "stdout",
     "output_type": "stream",
     "text": [
      "14408\n",
      "2025-05-05 18:51:50\n"
     ]
    },
    {
     "name": "stderr",
     "output_type": "stream",
     "text": [
      "\n"
     ]
    }
   ],
   "source": [
    "print time.strftime(\"%Y-%m-%d %H:%M:%S\")\n",
    "\n",
    "import tqdm\n",
    "\n",
    "##################\n",
    "# Helper aggregates\n",
    "##################\n",
    "\n",
    "# map ICU stay to race\n",
    "races = {}\n",
    "for i,row in tqdm.tqdm(demographics.iterrows()):\n",
    "    if row.race == 'African American':\n",
    "        races[row.patientunitstayid] = 'Black'\n",
    "    elif row.race == 'Caucasian':\n",
    "        races[row.patientunitstayid] = 'White'\n",
    "print len(races)\n",
    "\n",
    "# map ICU stay to acuity\n",
    "severities = {}\n",
    "for i,row in tqdm.tqdm(apache.iterrows()):\n",
    "    severities[row.patientunitstayid] = row.apachescore  \n",
    "print len(severities)\n",
    "\n",
    "print time.strftime(\"%Y-%m-%d %H:%M:%S\")"
   ]
  },
  {
   "cell_type": "code",
   "execution_count": 3,
   "metadata": {},
   "outputs": [
    {
     "name": "stdout",
     "output_type": "stream",
     "text": [
      "2025-05-05 18:51:56\n"
     ]
    },
    {
     "name": "stderr",
     "output_type": "stream",
     "text": [
      "100%|██████████| 14408/14408 [01:17<00:00, 186.28it/s]\n"
     ]
    },
    {
     "name": "stdout",
     "output_type": "stream",
     "text": [
      "2025-05-05 18:53:14\n"
     ]
    }
   ],
   "source": [
    "print time.strftime(\"%Y-%m-%d %H:%M:%S\")\n",
    "\n",
    "from collections import defaultdict\n",
    "\n",
    "# For each treatment_type, collect all treatmentstrings that mention it\n",
    "def load_treatment_spans(ids, treatment_types):\n",
    "    treatment_spans = {}\n",
    "    \n",
    "    for patientunitstayid,rows in tqdm.tqdm(treatments.groupby('patientunitstayid')):\n",
    "        \n",
    "        # partition into groups of relevant rows\n",
    "        relevant_treatments = defaultdict(list)\n",
    "        for i,row in rows.iterrows():\n",
    "            for tstring in treatment_types:       \n",
    "                if tstring in row.treatmentstring:\n",
    "                    relevant_treatments[tstring].append(row.treatmentoffset)\n",
    "                    \n",
    "        treatment_spans[patientunitstayid] = relevant_treatments\n",
    "    \n",
    "    return treatment_spans\n",
    "\n",
    "treatment_types = ['mechanical ventilation', 'vasopressor'] \n",
    "#treatment_types = ['mechanical ventilation', 'dialysis', 'vasopressor'] \n",
    "treatment_spans = load_treatment_spans(icustay_ids, treatment_types)\n",
    "\n",
    "\n",
    "print time.strftime(\"%Y-%m-%d %H:%M:%S\")"
   ]
  },
  {
   "cell_type": "code",
   "execution_count": 4,
   "metadata": {},
   "outputs": [
    {
     "name": "stderr",
     "output_type": "stream",
     "text": [
      "100%|██████████| 14408/14408 [00:00<00:00, 471021.07it/s]"
     ]
    },
    {
     "name": "stdout",
     "output_type": "stream",
     "text": [
      "vasopressor 74.0 104.0\n",
      "mechanical ventilation 71.0 98.0\n"
     ]
    },
    {
     "name": "stderr",
     "output_type": "stream",
     "text": [
      "\n"
     ]
    }
   ],
   "source": [
    "treatment_severity_populations = {treatment:[] for treatment in treatment_types}\n",
    "for hadm_id,eol_treatments in tqdm.tqdm(treatment_spans.items()):\n",
    "    for treatment,timestamps in eol_treatments.items():\n",
    "        if len(timestamps) > 1:\n",
    "            severity = severities[hadm_id]\n",
    "            treatment_severity_populations[treatment].append(severity)\n",
    "        \n",
    "treatment_severity_thresholds = {}\n",
    "for treatment,scores in treatment_severity_populations.items():\n",
    "    vals = sorted(scores)\n",
    "    n = len(vals)\n",
    "    print treatment, vals[n/3], vals[2*n/3]\n",
    "    treatment_severity_thresholds[treatment] = vals[n/3], vals[2*n/3]"
   ]
  },
  {
   "cell_type": "code",
   "execution_count": null,
   "metadata": {},
   "outputs": [],
   "source": []
  },
  {
   "cell_type": "code",
   "execution_count": 5,
   "metadata": {},
   "outputs": [
    {
     "name": "stderr",
     "output_type": "stream",
     "text": [
      "100%|██████████| 14408/14408 [00:02<00:00, 5686.22it/s]"
     ]
    },
    {
     "name": "stdout",
     "output_type": "stream",
     "text": [
      "mechanical ventilation\n",
      "\thigh\n",
      "\t\tWhite 1532\n",
      "\t\tBlack 268\n",
      "\tmedium\n",
      "\t\tWhite 1564\n",
      "\t\tBlack 203\n",
      "\tlow\n",
      "\t\tWhite 1708\n",
      "\t\tBlack 164\n",
      "vasopressor\n",
      "\thigh\n",
      "\t\tWhite 1059\n",
      "\t\tBlack 205\n",
      "\tmedium\n",
      "\t\tWhite 1183\n",
      "\t\tBlack 125\n",
      "\tlow\n",
      "\t\tWhite 1184\n",
      "\t\tBlack 127\n"
     ]
    },
    {
     "name": "stderr",
     "output_type": "stream",
     "text": [
      "\n"
     ]
    }
   ],
   "source": [
    "import tqdm\n",
    "\n",
    "# partition by treatment\n",
    "T      = defaultdict(lambda:defaultdict(lambda:defaultdict(list)))\n",
    "T_full = defaultdict(lambda:defaultdict(list))\n",
    "for hadm_id,rows in tqdm.tqdm(treatments.groupby('patientunitstayid')):\n",
    "\n",
    "    severity = severities[hadm_id]\n",
    "    race = races[hadm_id]\n",
    "\n",
    "    if len(rows):\n",
    "        for tstring in treatment_spans[hadm_id].keys():\n",
    "\n",
    "            if tstring in treatment_spans[hadm_id]:\n",
    "                num_rows = len(treatment_spans[hadm_id][tstring])\n",
    "            else:\n",
    "                num_rows = 0\n",
    "\n",
    "            # Only interested in patients that have 2+ datapoints (because doing max-min)\n",
    "            if num_rows > 1:\n",
    "                # This max-min represents a lower bound on how much treatment is given\n",
    "                times = treatment_spans[hadm_id][tstring]\n",
    "                lo = min(times)\n",
    "                hi = max(times)\n",
    "\n",
    "                amount = hi - lo\n",
    "\n",
    "                # acuity bin\n",
    "                if severities[hadm_id] <= treatment_severity_thresholds[tstring][0]:\n",
    "                    acuity = 'low'\n",
    "                elif severities[hadm_id] <= treatment_severity_thresholds[tstring][1]:\n",
    "                    acuity = 'medium'\n",
    "                else:\n",
    "                    acuity = 'high'\n",
    "\n",
    "                T     [tstring][acuity][race].append(amount)\n",
    "                T_full[tstring]        [race].append(amount)                \n",
    "\n",
    "                \n",
    "for treatment,cohorts in T.items():\n",
    "    print treatment\n",
    "    for severity,cohort in cohorts.items():\n",
    "        print '\\t', severity\n",
    "        for race,ids in cohort.items():\n",
    "            print '\\t\\t', race, len(ids)\n",
    "\n"
   ]
  },
  {
   "cell_type": "code",
   "execution_count": null,
   "metadata": {},
   "outputs": [],
   "source": []
  },
  {
   "cell_type": "code",
   "execution_count": null,
   "metadata": {},
   "outputs": [],
   "source": [
    "import pylab as pl\n",
    "import numpy as np\n",
    "from scipy.stats import mannwhitneyu\n",
    "\n",
    "%matplotlib inline\n",
    "\n",
    "colors = ['#00A6ED', '#FF5400']\n",
    "\n",
    "#treatment_names = {'mechanical ventilation':'vent', 'vasopressor':'vaso'}\n",
    "treatment_names = {'mechanical ventilation':'vent', 'vasopressor':'vaso', 'dialysis':'dialysis'}\n",
    "\n",
    "def captialize(t):\n",
    "    return ' '.join([w.capitalize() for w in t.split()])\n",
    "\n",
    "def list_median(vals):\n",
    "    svals = sorted(vals)\n",
    "    return svals[len(svals)/2]\n",
    "\n",
    "\n",
    "for treatment in T.keys():\n",
    "    #if 'vaso' not in treatment: continue\n",
    "    print treatment\n",
    "\n",
    "    for severity in ['low', 'medium', 'high']:\n",
    "        fig = pl.figure('-'.join([treatment,severity]))\n",
    "        print '\\t', treatment, severity\n",
    "        \n",
    "        white_median = list_median(T[treatment][severity]['White'])\n",
    "        black_median = list_median(T[treatment][severity]['Black'])\n",
    "        larger_median = min(white_median, black_median)\n",
    "        \n",
    "        for i,demographic in enumerate(['White', 'Black']):\n",
    "            vals = list(T[treatment][severity][demographic])\n",
    "            #print(len(vals))\n",
    "            #print (np.sort(vals)[int(len(vals)/2)])\n",
    "            pl.plot(np.sort(vals), np.linspace(0, 1, len(vals), endpoint=False), color=colors[i], label = demographic, lw=2)\n",
    "            pl.xlim((0,10000))\n",
    "            pl.ylim((0,1.0))\n",
    "\n",
    "            median = np.sort(vals)[int(len(vals)/2)]\n",
    "            pl.axvline(x=median, linestyle=\"--\", lw=1, color=colors[i], alpha=0.8) \n",
    "            if median == larger_median:\n",
    "                p = 10\n",
    "                h = 'right'\n",
    "            else:\n",
    "                p = -10\n",
    "                h = 'left'\n",
    "            #h = 'center'\n",
    "            pl.text(x=median+p, y=1.085, horizontalalignment=h, s=\"median:\", fontsize=14, color=colors[i])\n",
    "            pl.text(x=median+p, y=1.01 , horizontalalignment=h, s=str(int(median)), fontsize=17, color=colors[i])\n",
    "\n",
    "        ax = pl.subplot(111)    \n",
    "        ax.spines[\"top\"].set_visible(False)    \n",
    "        #ax.spines[\"bottom\"].set_visible(False)    \n",
    "        ax.spines[\"right\"].set_visible(False)    \n",
    "        #ax.spines[\"left\"].set_visible(False)    \n",
    "        pl.yticks(fontsize=17)    \n",
    "        pl.xticks(fontsize=17) \n",
    "\n",
    "        pl.legend(loc=4, fontsize=17)\n",
    "        pl.ylabel(\"Cumulative Probability\", fontsize=17)\n",
    "        pl.xlabel(\"%s Duration (minutes)\" % captialize(treatment), fontsize=17)\n",
    "\n",
    "        pl.tight_layout()\n",
    "        pl.savefig('../images/chapter3/race_eicu_%s_%s.png' % (treatment_names[treatment],severity))\n",
    "\n",
    "        p1 = list(T[treatment][severity]['White'])\n",
    "        p2 = list(T[treatment][severity]['Black'])\n",
    "        w = mannwhitneyu(p1, p2)\n",
    "        print '\\t\\twhite:', len(p1), white_median\n",
    "        print '\\t\\tblack:', len(p2), black_median\n",
    "        print '\\t\\tp-value:', w.pvalue   \n",
    "        pl.show()\n",
    "    #exit()\n"
   ]
  },
  {
   "cell_type": "code",
   "execution_count": null,
   "metadata": {},
   "outputs": [],
   "source": []
  },
  {
   "cell_type": "code",
   "execution_count": 7,
   "metadata": {},
   "outputs": [
    {
     "name": "stdout",
     "output_type": "stream",
     "text": [
      "mechanical ventilation\n",
      "\twhite: 4804 2421\n",
      "\tblack: 635 3166\n",
      "\tp-value: 2.272061002673092e-05\n"
     ]
    },
    {
     "data": {
      "image/png": "[encoded data removed]",
      "text/plain": [
       "<Figure size 432x288 with 1 Axes>"
      ]
     },
     "metadata": {
      "needs_background": "light"
     },
     "output_type": "display_data"
    },
    {
     "name": "stdout",
     "output_type": "stream",
     "text": [
      "vasopressor\n",
      "\twhite: 3426 1599\n",
      "\tblack: 457 1684\n",
      "\tp-value: 0.410663077170699\n"
     ]
    },
    {
     "data": {
      "image/png": "[encoded data removed]",
      "text/plain": [
       "<Figure size 432x288 with 1 Axes>"
      ]
     },
     "metadata": {
      "needs_background": "light"
     },
     "output_type": "display_data"
    }
   ],
   "source": [
    "\n",
    "\n",
    "for treatment in T_full.keys():\n",
    "    print treatment\n",
    "    \n",
    "    fig = pl.figure(treatment)\n",
    "    \n",
    "    white_median = list_median(T_full[treatment]['White'])\n",
    "    black_median = list_median(T_full[treatment]['Black'])\n",
    "    larger_median = min(white_median, black_median)\n",
    "    \n",
    "    for i,demographic in enumerate(['White', 'Black']):\n",
    "        vals = list(T_full[treatment][demographic])\n",
    "        #print(len(vals))\n",
    "        #print (np.sort(vals)[int(len(vals)/2)])\n",
    "        pl.plot(np.sort(vals), np.linspace(0, 1, len(vals), endpoint=False), color=colors[i], label = demographic, lw=2)\n",
    "        pl.xlim((0,10000))\n",
    "        pl.ylim((0,1.0))\n",
    "\n",
    "        median = np.sort(vals)[int(len(vals)/2)]\n",
    "        pl.axvline(x=median, linestyle=\"--\", lw=1, color=colors[i], alpha=0.8) \n",
    "        if median == larger_median:\n",
    "            p = 10\n",
    "            h = 'right'\n",
    "        else:\n",
    "            p = -10\n",
    "            h = 'left'\n",
    "        #h = 'center'\n",
    "        pl.text(x=median+p, y=1.085, horizontalalignment=h, s=\"median:\", fontsize=14, color=colors[i])\n",
    "        pl.text(x=median+p, y=1.01, horizontalalignment=h, s=str(int(median)), fontsize=17, color=colors[i])\n",
    "\n",
    "        i += 1\n",
    "\n",
    "    ax = pl.subplot(111)    \n",
    "    ax.spines[\"top\"].set_visible(False)    \n",
    "    #ax.spines[\"bottom\"].set_visible(False)    \n",
    "    ax.spines[\"right\"].set_visible(False)    \n",
    "    #ax.spines[\"left\"].set_visible(False)    \n",
    "    pl.yticks(fontsize=17)    \n",
    "    pl.xticks(fontsize=17) \n",
    "\n",
    "    pl.legend(loc=4, fontsize=17)\n",
    "    pl.ylabel(\"Cumulative Probability\", fontsize=17)\n",
    "    pl.xlabel(\"%s Duration (minutes)\" % captialize(treatment), fontsize=17)\n",
    "\n",
    "    pl.tight_layout()\n",
    "    pl.savefig('../images/chapter3/race_mimic_%s.png' % treatment_names[treatment])\n",
    "\n",
    "    p1 = list(T_full[treatment]['White'])\n",
    "    p2 = list(T_full[treatment]['Black'])\n",
    "    w = mannwhitneyu(p1, p2)\n",
    "    print '\\twhite:', len(p1), white_median\n",
    "    print '\\tblack:', len(p2), black_median\n",
    "    print '\\tp-value:', w.pvalue    \n",
    "    pl.show()"
   ]
  },
  {
   "cell_type": "code",
   "execution_count": null,
   "metadata": {},
   "outputs": [],
   "source": []
  },
  {
   "cell_type": "code",
   "execution_count": 8,
   "metadata": {},
   "outputs": [
    {
     "data": {
      "text/html": [
       "<div>\n",
       "<style scoped>\n",
       "    .dataframe tbody tr th:only-of-type {\n",
       "        vertical-align: middle;\n",
       "    }\n",
       "\n",
       "    .dataframe tbody tr th {\n",
       "        vertical-align: top;\n",
       "    }\n",
       "\n",
       "    .dataframe thead tr th {\n",
       "        text-align: left;\n",
       "    }\n",
       "\n",
       "    .dataframe thead tr:last-of-type th {\n",
       "        text-align: right;\n",
       "    }\n",
       "</style>\n",
       "<table border=\"1\" class=\"dataframe\">\n",
       "  <thead>\n",
       "    <tr>\n",
       "      <th></th>\n",
       "      <th></th>\n",
       "      <th colspan=\"4\" halign=\"left\">Grouped by Race</th>\n",
       "    </tr>\n",
       "    <tr>\n",
       "      <th></th>\n",
       "      <th></th>\n",
       "      <th>African American</th>\n",
       "      <th>Caucasian</th>\n",
       "      <th>pval</th>\n",
       "      <th>ptest</th>\n",
       "    </tr>\n",
       "    <tr>\n",
       "      <th>variable</th>\n",
       "      <th>level</th>\n",
       "      <th></th>\n",
       "      <th></th>\n",
       "      <th></th>\n",
       "      <th></th>\n",
       "    </tr>\n",
       "  </thead>\n",
       "  <tbody>\n",
       "    <tr>\n",
       "      <th>n</th>\n",
       "      <th></th>\n",
       "      <td>1703</td>\n",
       "      <td>12705</td>\n",
       "      <td></td>\n",
       "      <td></td>\n",
       "    </tr>\n",
       "    <tr>\n",
       "      <th rowspan=\"2\" valign=\"top\">Discharge Location</th>\n",
       "      <th>Death</th>\n",
       "      <td>785 (46.1)</td>\n",
       "      <td>5208 (41.0)</td>\n",
       "      <td>&lt;0.001</td>\n",
       "      <td>Chi-squared</td>\n",
       "    </tr>\n",
       "    <tr>\n",
       "      <th>Skilled Nursing Facility</th>\n",
       "      <td>918 (53.9)</td>\n",
       "      <td>7497 (59.0)</td>\n",
       "      <td></td>\n",
       "      <td></td>\n",
       "    </tr>\n",
       "    <tr>\n",
       "      <th rowspan=\"2\" valign=\"top\">Gender</th>\n",
       "      <th>Female</th>\n",
       "      <td>867 (50.9)</td>\n",
       "      <td>6226 (49.0)</td>\n",
       "      <td>0.147</td>\n",
       "      <td>Chi-squared</td>\n",
       "    </tr>\n",
       "    <tr>\n",
       "      <th>Male</th>\n",
       "      <td>836 (49.1)</td>\n",
       "      <td>6479 (51.0)</td>\n",
       "      <td></td>\n",
       "      <td></td>\n",
       "    </tr>\n",
       "    <tr>\n",
       "      <th>Length of stay</th>\n",
       "      <th></th>\n",
       "      <td>8.7 [4.2,16.2]</td>\n",
       "      <td>8.0 [4.3,14.0]</td>\n",
       "      <td>&lt;0.001</td>\n",
       "      <td>Kruskal-Wallis</td>\n",
       "    </tr>\n",
       "    <tr>\n",
       "      <th>Age</th>\n",
       "      <th></th>\n",
       "      <td>66.0 [56.0,76.0]</td>\n",
       "      <td>73.0 [63.0,82.0]</td>\n",
       "      <td>&lt;0.001</td>\n",
       "      <td>Kruskal-Wallis</td>\n",
       "    </tr>\n",
       "  </tbody>\n",
       "</table>\n",
       "</div><br />[1] Warning, Hartigan's Dip Test reports possible multimodal distributions for: age, los.<br />[2] Warning, Tukey test indicates far outliers in: los.<br />[3] Warning, test for normality reports non-normal distributions for: age, los.<br />"
      ],
      "text/plain": [
       "                                              Grouped by Race                                          \n",
       "                                             African American         Caucasian    pval           ptest\n",
       "variable           level                                                                               \n",
       "n                                                        1703             12705                        \n",
       "Discharge Location Death                           785 (46.1)       5208 (41.0)  <0.001     Chi-squared\n",
       "                   Skilled Nursing Facility        918 (53.9)       7497 (59.0)                        \n",
       "Gender             Female                          867 (50.9)       6226 (49.0)   0.147     Chi-squared\n",
       "                   Male                            836 (49.1)       6479 (51.0)                        \n",
       "Length of stay                                 8.7 [4.2,16.2]    8.0 [4.3,14.0]  <0.001  Kruskal-Wallis\n",
       "Age                                          66.0 [56.0,76.0]  73.0 [63.0,82.0]  <0.001  Kruskal-Wallis\n",
       "[1] Warning, Hartigan's Dip Test reports possible multimodal distributions for: age, los.\n",
       "[2] Warning, Tukey test indicates far outliers in: los.\n",
       "[3] Warning, test for normality reports non-normal distributions for: age, los."
      ]
     },
     "execution_count": 8,
     "metadata": {},
     "output_type": "execute_result"
    }
   ],
   "source": [
    "# Table One\n",
    "\n",
    "from tableone import TableOne\n",
    "import pandas as pd\n",
    "import matplotlib.pyplot as plt\n",
    "\n",
    "# optionally, a categorical variable for stratification\n",
    "groupby = ['race']\n",
    "\n",
    "# columns to be summarized\n",
    "columns = ['discharge_location', 'gender', 'los', 'age'] \n",
    "\n",
    "# columns containing categorical variables\n",
    "categorical = ['discharge_location', 'gender']\n",
    "\n",
    "# non-normal variables\n",
    "nonnormal = ['age', 'los']\n",
    "\n",
    "# alternative labels\n",
    "labels={'los': 'Length of stay', 'age': 'Age', 'race':'Race',\n",
    "        'gender':'Gender', 'discharge_location':'Discharge Location'}\n",
    "\n",
    "# combine all information\n",
    "grouped_df = pd.merge(apache, demographics, on=['patientunitstayid'])\n",
    "grouped_df = pd.merge(grouped_df, hospitals, on=['patientunitstayid'])\n",
    "\n",
    "# create an instance of TableOne with the input arguments\n",
    "grouped_table = TableOne(grouped_df, columns, categorical, groupby, nonnormal, labels=labels, isnull=False, pval=True)\n",
    "\n",
    "# view tableone\n",
    "grouped_table"
   ]
  },
  {
   "cell_type": "code",
   "execution_count": null,
   "metadata": {},
   "outputs": [],
   "source": []
  }
 ],
 "metadata": {
  "kernelspec": {
   "display_name": "Python 2.7",
   "language": "python",
   "name": "py2env"
  },
  "language_info": {
   "codemirror_mode": {
    "name": "ipython",
    "version": 2
   },
   "file_extension": ".py",
   "mimetype": "text/x-python",
   "name": "python",
   "nbconvert_exporter": "python",
   "pygments_lexer": "ipython2",
   "version": "2.7.18"
  }
 },
 "nbformat": 4,
 "nbformat_minor": 4
}
